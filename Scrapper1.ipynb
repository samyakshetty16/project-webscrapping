{
  "nbformat": 4,
  "nbformat_minor": 0,
  "metadata": {
    "colab": {
      "provenance": [],
      "mount_file_id": "1vO2kMUPRCec2FNueNTYz3YXBu2ldRJBv",
      "authorship_tag": "ABX9TyNfLYDTz5Aru7EX9Z3Bp6c6"
    },
    "kernelspec": {
      "name": "python3",
      "display_name": "Python 3"
    },
    "language_info": {
      "name": "python"
    }
  },
  "cells": [
    {
      "cell_type": "markdown",
      "source": [
        "Simple Web Scrapping Using Beautiful Soup"
      ],
      "metadata": {
        "id": "LaJNG6CHohr9"
      }
    },
    {
      "cell_type": "code",
      "source": [
        "pip install requests beautifulsoup4 pandas\n"
      ],
      "metadata": {
        "colab": {
          "base_uri": "https://localhost:8080/"
        },
        "id": "UI8ZupAZeEDc",
        "outputId": "1d7c6c74-db97-4a1f-bc90-26562744ad6f"
      },
      "execution_count": null,
      "outputs": [
        {
          "output_type": "stream",
          "name": "stdout",
          "text": [
            "Requirement already satisfied: requests in /usr/local/lib/python3.11/dist-packages (2.32.3)\n",
            "Requirement already satisfied: beautifulsoup4 in /usr/local/lib/python3.11/dist-packages (4.12.3)\n",
            "Requirement already satisfied: pandas in /usr/local/lib/python3.11/dist-packages (2.2.2)\n",
            "Requirement already satisfied: charset-normalizer<4,>=2 in /usr/local/lib/python3.11/dist-packages (from requests) (3.4.1)\n",
            "Requirement already satisfied: idna<4,>=2.5 in /usr/local/lib/python3.11/dist-packages (from requests) (3.10)\n",
            "Requirement already satisfied: urllib3<3,>=1.21.1 in /usr/local/lib/python3.11/dist-packages (from requests) (2.3.0)\n",
            "Requirement already satisfied: certifi>=2017.4.17 in /usr/local/lib/python3.11/dist-packages (from requests) (2024.12.14)\n",
            "Requirement already satisfied: soupsieve>1.2 in /usr/local/lib/python3.11/dist-packages (from beautifulsoup4) (2.6)\n",
            "Requirement already satisfied: numpy>=1.23.2 in /usr/local/lib/python3.11/dist-packages (from pandas) (1.26.4)\n",
            "Requirement already satisfied: python-dateutil>=2.8.2 in /usr/local/lib/python3.11/dist-packages (from pandas) (2.8.2)\n",
            "Requirement already satisfied: pytz>=2020.1 in /usr/local/lib/python3.11/dist-packages (from pandas) (2024.2)\n",
            "Requirement already satisfied: tzdata>=2022.7 in /usr/local/lib/python3.11/dist-packages (from pandas) (2024.2)\n",
            "Requirement already satisfied: six>=1.5 in /usr/local/lib/python3.11/dist-packages (from python-dateutil>=2.8.2->pandas) (1.17.0)\n"
          ]
        }
      ]
    },
    {
      "cell_type": "code",
      "source": [
        "import requests\n",
        "from bs4 import BeautifulSoup\n",
        "import pandas as pd"
      ],
      "metadata": {
        "id": "MleZO_oDfcZo"
      },
      "execution_count": null,
      "outputs": []
    },
    {
      "cell_type": "code",
      "source": [
        "base_url=\"http://books.toscrape.com/catalogue/page-{}.html\""
      ],
      "metadata": {
        "id": "6n9mPfbFk9OQ"
      },
      "execution_count": null,
      "outputs": []
    },
    {
      "cell_type": "code",
      "source": [
        "products=[] # To store the final data after scrapping"
      ],
      "metadata": {
        "id": "2beQDAnglt2-"
      },
      "execution_count": null,
      "outputs": []
    },
    {
      "cell_type": "code",
      "source": [
        "for page in range(1,3):\n",
        "  response=requests.get(base_url.format(page)) #Fetching the content from the each html page and storing into response object\n",
        "  soup=BeautifulSoup(response.content,\"html.parser\") #response.content=The raw HTML content of the page,bs is specified to parse using html.parser"
      ],
      "metadata": {
        "id": "oQq77RnFlxWY"
      },
      "execution_count": null,
      "outputs": []
    },
    {
      "cell_type": "code",
      "source": [
        "for book in soup.select(\".product_pod\"):\n",
        "        title = book.h3.a[\"title\"]\n",
        "        price = book.select_one(\".price_color\").text\n",
        "        rating = book.select_one(\".star-rating\")[\"class\"][1]  #[1] =e.g., \"One\", \"Two\", etc.\n",
        "        products.append({\"Title\": title, \"Price\": price, \"Rating\": rating})"
      ],
      "metadata": {
        "id": "sC70xB0xoYv0"
      },
      "execution_count": null,
      "outputs": []
    },
    {
      "cell_type": "code",
      "source": [
        "df = pd.DataFrame(products)\n",
        "df.to_csv(\"books.csv\", index=False)\n",
        "print(\"Scraping complete! Data saved to 'books.csv'.\")"
      ],
      "metadata": {
        "colab": {
          "base_uri": "https://localhost:8080/"
        },
        "id": "DWXsSAmhppqF",
        "outputId": "5e34a48f-0891-4658-db61-9f17c9f0b021"
      },
      "execution_count": null,
      "outputs": [
        {
          "output_type": "stream",
          "name": "stdout",
          "text": [
            "Scraping complete! Data saved to 'books.csv'.\n"
          ]
        }
      ]
    }
  ]
}